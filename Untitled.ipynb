{
 "cells": [
  {
   "cell_type": "code",
   "execution_count": 41,
   "metadata": {},
   "outputs": [],
   "source": [
    "    import cv2\n",
    "    import numpy as np\n",
    "    import matplotlib.pyplot as plt\n",
    "    im=r\"C:\\Users\\PIYUSH\\Desktop\\sig3.png\"\n",
    "    img=cv2.imread(im)\n",
    "    #img = cv2.resize(img, (150,200)) \n",
    "    gray_image = cv2.cvtColor(img, cv2.COLOR_BGR2GRAY)\n",
    "    norm_image=cv2.normalize(gray_image,gray_image, 0, 255, cv2.NORM_MINMAX)\n",
    "    \n",
    "    ret, thresh = cv2.threshold(norm_image,0,255,cv2.THRESH_BINARY_INV+cv2.THRESH_OTSU)\n",
    "    smooth_image = cv2.GaussianBlur(norm_image,(5,5),0)\n",
    "    \n",
    "    kernel = np.ones((5,5), np.uint8) \n",
    "    img_dilation = cv2.dilate(thresh, kernel, iterations=1)\n",
    "    im2,ctrs, hier = cv2.findContours(img_dilation.copy(), cv2.RETR_EXTERNAL, cv2.CHAIN_APPROX_SIMPLE) \n",
    "#sort contours \n",
    "    sorted_ctrs = sorted(ctrs, key=lambda ctr: cv2.boundingRect(ctr)[0])\n",
    "\n",
    "    for i, ctr in enumerate(sorted_ctrs): \n",
    "        # Get bounding box \n",
    "        x, y, w, h = cv2.boundingRect(ctr) \n",
    "        \n",
    "        # Getting ROI \n",
    "        roi = img[y:y+h, x:x+w] \n",
    "        # show ROI \n",
    "        #cv2.imshow('segment no:'+str(i),roi) \n",
    "        cv2.rectangle(img,(x,y),( x + w, y + h ),(0,255,0),2)\n",
    "        cv2.imwrite(r\"C:\\Users\\PIYUSH\\Desktop\\gray.png\",gray_image)\n",
    "        cv2.imwrite(r\"C:\\Users\\PIYUSH\\Desktop\\smooth.png\",smooth_image)\n",
    "        cv2.imwrite(r\"C:\\Users\\PIYUSH\\Desktop\\thresh.png\",thresh)\n",
    "        cv2.waitKey(0)"
   ]
  },
  {
   "cell_type": "code",
   "execution_count": 42,
   "metadata": {},
   "outputs": [],
   "source": [
    "    from skimage import img_as_float\n",
    "    from skimage import io, color, morphology\n",
    "    from skimage import img_as_float\n",
    "    image1 = img_as_float(color.rgb2gray(io.imread(im)))\n",
    "    #image1=img_as_float(gray_image3)\n",
    "    image_binary = image1 < 0.5\n",
    "    out_skeletonize = morphology.skeletonize(image_binary)\n",
    "    out_thin = morphology.thin(image_binary)"
   ]
  },
  {
   "cell_type": "code",
   "execution_count": 47,
   "metadata": {},
   "outputs": [
    {
     "data": {
      "image/png": "[encoded data removed]",
      "text/plain": [
       "<Figure size 432x288 with 1 Axes>"
      ]
     },
     "metadata": {
      "needs_background": "light"
     },
     "output_type": "display_data"
    }
   ],
   "source": [
    "plt.imshow(out_thin,cmap='gray')\n",
    "plt.show()"
   ]
  }
 ],
 "metadata": {
  "kernelspec": {
   "display_name": "Python 3",
   "language": "python",
   "name": "python3"
  },
  "language_info": {
   "codemirror_mode": {
    "name": "ipython",
    "version": 3
   },
   "file_extension": ".py",
   "mimetype": "text/x-python",
   "name": "python",
   "nbconvert_exporter": "python",
   "pygments_lexer": "ipython3",
   "version": "3.6.6"
  }
 },
 "nbformat": 4,
 "nbformat_minor": 2
}
